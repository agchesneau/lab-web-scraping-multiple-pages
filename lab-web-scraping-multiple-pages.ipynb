{
 "cells": [
  {
   "cell_type": "code",
   "execution_count": 1,
   "id": "52a019f3",
   "metadata": {},
   "outputs": [],
   "source": [
    "from bs4 import BeautifulSoup\n",
    "import requests\n",
    "import pandas as pd"
   ]
  },
  {
   "cell_type": "markdown",
   "id": "696eda77",
   "metadata": {},
   "source": [
    "### Create a Python list with the top ten FBI's Most Wanted names"
   ]
  },
  {
   "cell_type": "code",
   "execution_count": 2,
   "id": "2971409a",
   "metadata": {},
   "outputs": [],
   "source": [
    "url = \"https://www.fbi.gov/wanted/topten\"\n",
    "response = requests.get(url)\n",
    "response.status_code\n",
    "soup = BeautifulSoup(response.content, 'html.parser')"
   ]
  },
  {
   "cell_type": "code",
   "execution_count": 3,
   "id": "32faf25f",
   "metadata": {},
   "outputs": [],
   "source": [
    "#query-results-0f737222c5054a81a120bce207b0446a > ul > li:nth-child(1) > h3 > a"
   ]
  },
  {
   "cell_type": "code",
   "execution_count": 4,
   "id": "63609ee9",
   "metadata": {},
   "outputs": [
    {
     "data": {
      "text/plain": [
       "['RAFAEL CARO-QUINTERO',\n",
       " 'YULAN ADONAY ARCHAGA CARIAS',\n",
       " 'EUGENE PALMER',\n",
       " 'BHADRESHKUMAR CHETANBHAI PATEL',\n",
       " 'ALEJANDRO ROSALES CASTILLO',\n",
       " 'ARNOLDO JIMENEZ',\n",
       " 'JASON DEREK BROWN',\n",
       " 'ALEXIS FLORES',\n",
       " 'JOSE RODOLFO VILLARREAL-HERNANDEZ',\n",
       " 'OCTAVIANO JUAREZ-CORRO']"
      ]
     },
     "execution_count": 4,
     "metadata": {},
     "output_type": "execute_result"
    }
   ],
   "source": [
    "most_wanted = []\n",
    "for name in soup.select(\"h3 > a\"):\n",
    "    most_wanted.append(name.get_text())\n",
    "    \n",
    "    \n",
    "most_wanted"
   ]
  },
  {
   "cell_type": "markdown",
   "id": "97c5f723",
   "metadata": {},
   "source": [
    "### Display the 20 latest earthquakes info (date, time, latitude, longitude and region name) by the EMSC as a pandas dataframe"
   ]
  },
  {
   "cell_type": "code",
   "execution_count": 5,
   "id": "db70d078",
   "metadata": {},
   "outputs": [],
   "source": [
    "url = \"https://www.emsc-csem.org/Earthquake/\"\n",
    "response = requests.get(url)\n",
    "response.status_code\n",
    "soup = BeautifulSoup(response.content, 'html.parser')"
   ]
  },
  {
   "cell_type": "code",
   "execution_count": 16,
   "id": "ed4c65b9",
   "metadata": {},
   "outputs": [
    {
     "data": {
      "text/plain": [
       "[<a href=\"/Earthquake/earthquake.php?id=1065434\">2021-11-22   20:03:20.3</a>,\n",
       " <a href=\"/Earthquake/earthquake.php?id=1065432\">2021-11-22   19:52:37.5</a>,\n",
       " <a href=\"/Earthquake/earthquake.php?id=1065433\">2021-11-22   19:52:37.1</a>,\n",
       " <a href=\"/Earthquake/earthquake.php?id=1065431\">2021-11-22   19:47:58.0</a>,\n",
       " <a href=\"/Earthquake/earthquake.php?id=1065428\">2021-11-22   19:47:07.0</a>,\n",
       " <a href=\"/Earthquake/earthquake.php?id=1065427\">2021-11-22   19:40:52.4</a>,\n",
       " <a href=\"/Earthquake/earthquake.php?id=1065426\">2021-11-22   19:38:48.3</a>,\n",
       " <a href=\"/Earthquake/earthquake.php?id=1065425\">2021-11-22   19:37:15.0</a>,\n",
       " <a href=\"/Earthquake/earthquake.php?id=1065429\">2021-11-22   19:32:40.6</a>,\n",
       " <a href=\"/Earthquake/earthquake.php?id=1065424\">2021-11-22   19:20:07.9</a>,\n",
       " <a href=\"/Earthquake/earthquake.php?id=1065419\">2021-11-22   19:10:30.0</a>,\n",
       " <a href=\"/Earthquake/earthquake.php?id=1065420\">2021-11-22   19:09:57.3</a>,\n",
       " <a href=\"/Earthquake/earthquake.php?id=1065418\">2021-11-22   18:57:14.0</a>,\n",
       " <a href=\"/Earthquake/earthquake.php?id=1065417\">2021-11-22   18:41:30.4</a>,\n",
       " <a href=\"/Earthquake/earthquake.php?id=1065414\">2021-11-22   18:27:29.2</a>,\n",
       " <a href=\"/Earthquake/earthquake.php?id=1065416\">2021-11-22   18:12:58.6</a>,\n",
       " <a href=\"/Earthquake/earthquake.php?id=1065410\">2021-11-22   17:13:16.4</a>,\n",
       " <a href=\"/Earthquake/earthquake.php?id=1065408\">2021-11-22   17:10:33.2</a>,\n",
       " <a href=\"/Earthquake/earthquake.php?id=1065406\">2021-11-22   16:49:50.0</a>,\n",
       " <a href=\"/Earthquake/earthquake.php?id=1065404\">2021-11-22   16:46:16.5</a>,\n",
       " <a href=\"/Earthquake/earthquake.php?id=1065405\">2021-11-22   16:38:21.1</a>,\n",
       " <a href=\"/Earthquake/earthquake.php?id=1065400\">2021-11-22   16:07:04.0</a>,\n",
       " <a href=\"/Earthquake/earthquake.php?id=1065398\">2021-11-22   15:58:26.0</a>,\n",
       " <a href=\"/Earthquake/earthquake.php?id=1065402\">2021-11-22   15:48:10.8</a>,\n",
       " <a href=\"/Earthquake/earthquake.php?id=1065401\">2021-11-22   15:44:13.2</a>,\n",
       " <a href=\"/Earthquake/earthquake.php?id=1065394\">2021-11-22   15:40:49.2</a>,\n",
       " <a href=\"/Earthquake/earthquake.php?id=1065396\">2021-11-22   15:37:57.9</a>,\n",
       " <a href=\"/Earthquake/earthquake.php?id=1065403\">2021-11-22   15:36:30.0</a>,\n",
       " <a href=\"/Earthquake/earthquake.php?id=1065397\">2021-11-22   15:34:27.3</a>,\n",
       " <a href=\"/Earthquake/earthquake.php?id=1065391\">2021-11-22   15:13:33.0</a>,\n",
       " <a href=\"/Earthquake/earthquake.php?id=1065390\">2021-11-22   15:13:11.6</a>,\n",
       " <a href=\"/Earthquake/earthquake.php?id=1065392\">2021-11-22   15:12:04.6</a>,\n",
       " <a href=\"/Earthquake/earthquake.php?id=1065388\">2021-11-22   14:54:39.7</a>,\n",
       " <a href=\"/Earthquake/earthquake.php?id=1065389\">2021-11-22   14:51:08.0</a>,\n",
       " <a href=\"/Earthquake/earthquake.php?id=1065387\">2021-11-22   14:38:09.0</a>,\n",
       " <a href=\"/Earthquake/earthquake.php?id=1065385\">2021-11-22   14:29:59.0</a>,\n",
       " <a href=\"/Earthquake/earthquake.php?id=1065382\">2021-11-22   14:26:45.5</a>,\n",
       " <a href=\"/Earthquake/earthquake.php?id=1065383\">2021-11-22   14:22:52.0</a>,\n",
       " <a href=\"/Earthquake/earthquake.php?id=1065381\">2021-11-22   14:18:30.7</a>,\n",
       " <a href=\"/Earthquake/earthquake.php?id=1065384\">2021-11-22   14:08:35.0</a>,\n",
       " <a href=\"/Earthquake/earthquake.php?id=1065386\">2021-11-22   14:07:30.0</a>,\n",
       " <a href=\"/Earthquake/earthquake.php?id=1065380\">2021-11-22   14:01:48.7</a>,\n",
       " <a href=\"/Earthquake/earthquake.php?id=1065368\">2021-11-22   13:59:31.2</a>,\n",
       " <a href=\"/Earthquake/earthquake.php?id=1065366\">2021-11-22   13:56:50.1</a>,\n",
       " <a href=\"/Earthquake/earthquake.php?id=1065365\">2021-11-22   13:37:11.0</a>,\n",
       " <a href=\"/Earthquake/earthquake.php?id=1065364\">2021-11-22   13:27:30.0</a>,\n",
       " <a href=\"/Earthquake/earthquake.php?id=1065359\">2021-11-22   13:23:34.2</a>,\n",
       " <a href=\"/Earthquake/earthquake.php?id=1065361\">2021-11-22   13:19:51.0</a>,\n",
       " <a href=\"/Earthquake/earthquake.php?id=1065358\">2021-11-22   13:18:08.9</a>,\n",
       " <a href=\"/Earthquake/earthquake.php?id=1065360\">2021-11-22   13:13:45.0</a>]"
      ]
     },
     "execution_count": 16,
     "metadata": {},
     "output_type": "execute_result"
    }
   ],
   "source": [
    "soup.select(\"td:nth-child(7)\")"
   ]
  },
  {
   "cell_type": "code",
   "execution_count": 13,
   "id": "f8b310a7",
   "metadata": {},
   "outputs": [
    {
     "data": {
      "text/plain": [
       "20"
      ]
     },
     "execution_count": 13,
     "metadata": {},
     "output_type": "execute_result"
    }
   ],
   "source": [
    "date_time =[]\n",
    "latitude =[]\n",
    "longitude =[]\n",
    "region_name =[]\n",
    "for i in range(20):\n",
    "    date_time.append(soup.select(\"td > b > a\")[i].get_text())\n",
    "    latitude.append(soup.select(\"td:nth-child(5)\")[i].get_text())\n",
    "    longitude.append(soup.select(\"td:nth-child(7)\")[i].get_text())\n",
    "    region_name.append(soup.select(\"td.tb_region\")[i].get_text())\n",
    "    \n",
    "len(date_time)"
   ]
  },
  {
   "cell_type": "code",
   "execution_count": 14,
   "id": "3a3a09bd",
   "metadata": {},
   "outputs": [],
   "source": [
    "earthquakes = pd.DataFrame({\"date_time\":date_time,\n",
    "                            \"latitude\":latitude,\n",
    "                           \"longitude\":longitude,\n",
    "                           \"region_name\":region_name})"
   ]
  },
  {
   "cell_type": "code",
   "execution_count": 15,
   "id": "f7192f82",
   "metadata": {},
   "outputs": [
    {
     "data": {
      "text/html": [
       "<div>\n",
       "<style scoped>\n",
       "    .dataframe tbody tr th:only-of-type {\n",
       "        vertical-align: middle;\n",
       "    }\n",
       "\n",
       "    .dataframe tbody tr th {\n",
       "        vertical-align: top;\n",
       "    }\n",
       "\n",
       "    .dataframe thead th {\n",
       "        text-align: right;\n",
       "    }\n",
       "</style>\n",
       "<table border=\"1\" class=\"dataframe\">\n",
       "  <thead>\n",
       "    <tr style=\"text-align: right;\">\n",
       "      <th></th>\n",
       "      <th>datetime</th>\n",
       "      <th>latitude</th>\n",
       "      <th>longitude</th>\n",
       "      <th>region_name</th>\n",
       "    </tr>\n",
       "  </thead>\n",
       "  <tbody>\n",
       "    <tr>\n",
       "      <th>0</th>\n",
       "      <td>2021-11-22   20:03:20.3</td>\n",
       "      <td>28.56</td>\n",
       "      <td>17.80</td>\n",
       "      <td>CANARY ISLANDS, SPAIN REGION</td>\n",
       "    </tr>\n",
       "    <tr>\n",
       "      <th>1</th>\n",
       "      <td>2021-11-22   19:52:37.5</td>\n",
       "      <td>28.57</td>\n",
       "      <td>17.80</td>\n",
       "      <td>CANARY ISLANDS, SPAIN REGION</td>\n",
       "    </tr>\n",
       "    <tr>\n",
       "      <th>2</th>\n",
       "      <td>2021-11-22   19:52:37.1</td>\n",
       "      <td>38.98</td>\n",
       "      <td>15.76</td>\n",
       "      <td>SICILY, ITALY</td>\n",
       "    </tr>\n",
       "    <tr>\n",
       "      <th>3</th>\n",
       "      <td>2021-11-22   19:47:58.0</td>\n",
       "      <td>11.73</td>\n",
       "      <td>124.21</td>\n",
       "      <td>LEYTE, PHILIPPINES</td>\n",
       "    </tr>\n",
       "    <tr>\n",
       "      <th>4</th>\n",
       "      <td>2021-11-22   19:47:07.0</td>\n",
       "      <td>38.29</td>\n",
       "      <td>22.64</td>\n",
       "      <td>GREECE</td>\n",
       "    </tr>\n",
       "    <tr>\n",
       "      <th>5</th>\n",
       "      <td>2021-11-22   19:40:52.4</td>\n",
       "      <td>28.57</td>\n",
       "      <td>17.81</td>\n",
       "      <td>CANARY ISLANDS, SPAIN REGION</td>\n",
       "    </tr>\n",
       "    <tr>\n",
       "      <th>6</th>\n",
       "      <td>2021-11-22   19:38:48.3</td>\n",
       "      <td>28.57</td>\n",
       "      <td>17.80</td>\n",
       "      <td>CANARY ISLANDS, SPAIN REGION</td>\n",
       "    </tr>\n",
       "    <tr>\n",
       "      <th>7</th>\n",
       "      <td>2021-11-22   19:37:15.0</td>\n",
       "      <td>1.58</td>\n",
       "      <td>120.45</td>\n",
       "      <td>SULAWESI, INDONESIA</td>\n",
       "    </tr>\n",
       "    <tr>\n",
       "      <th>8</th>\n",
       "      <td>2021-11-22   19:32:40.6</td>\n",
       "      <td>28.50</td>\n",
       "      <td>17.83</td>\n",
       "      <td>CANARY ISLANDS, SPAIN REGION</td>\n",
       "    </tr>\n",
       "    <tr>\n",
       "      <th>9</th>\n",
       "      <td>2021-11-22   19:20:07.9</td>\n",
       "      <td>28.59</td>\n",
       "      <td>17.77</td>\n",
       "      <td>CANARY ISLANDS, SPAIN REGION</td>\n",
       "    </tr>\n",
       "    <tr>\n",
       "      <th>10</th>\n",
       "      <td>2021-11-22   19:10:30.0</td>\n",
       "      <td>42.30</td>\n",
       "      <td>143.10</td>\n",
       "      <td>HOKKAIDO, JAPAN REGION</td>\n",
       "    </tr>\n",
       "    <tr>\n",
       "      <th>11</th>\n",
       "      <td>2021-11-22   19:09:57.3</td>\n",
       "      <td>28.56</td>\n",
       "      <td>17.84</td>\n",
       "      <td>CANARY ISLANDS, SPAIN REGION</td>\n",
       "    </tr>\n",
       "    <tr>\n",
       "      <th>12</th>\n",
       "      <td>2021-11-22   18:57:14.0</td>\n",
       "      <td>12.47</td>\n",
       "      <td>87.68</td>\n",
       "      <td>NEAR COAST OF NICARAGUA</td>\n",
       "    </tr>\n",
       "    <tr>\n",
       "      <th>13</th>\n",
       "      <td>2021-11-22   18:41:30.4</td>\n",
       "      <td>28.57</td>\n",
       "      <td>17.84</td>\n",
       "      <td>CANARY ISLANDS, SPAIN REGION</td>\n",
       "    </tr>\n",
       "    <tr>\n",
       "      <th>14</th>\n",
       "      <td>2021-11-22   18:27:29.2</td>\n",
       "      <td>28.68</td>\n",
       "      <td>17.92</td>\n",
       "      <td>CANARY ISLANDS, SPAIN REGION</td>\n",
       "    </tr>\n",
       "    <tr>\n",
       "      <th>15</th>\n",
       "      <td>2021-11-22   18:12:58.6</td>\n",
       "      <td>35.67</td>\n",
       "      <td>3.55</td>\n",
       "      <td>STRAIT OF GIBRALTAR</td>\n",
       "    </tr>\n",
       "    <tr>\n",
       "      <th>16</th>\n",
       "      <td>2021-11-22   17:13:16.4</td>\n",
       "      <td>34.26</td>\n",
       "      <td>177.84</td>\n",
       "      <td>NORTH OF NEW ZEALAND</td>\n",
       "    </tr>\n",
       "    <tr>\n",
       "      <th>17</th>\n",
       "      <td>2021-11-22   17:10:33.2</td>\n",
       "      <td>18.11</td>\n",
       "      <td>178.31</td>\n",
       "      <td>FIJI REGION</td>\n",
       "    </tr>\n",
       "    <tr>\n",
       "      <th>18</th>\n",
       "      <td>2021-11-22   16:49:50.0</td>\n",
       "      <td>28.53</td>\n",
       "      <td>17.85</td>\n",
       "      <td>CANARY ISLANDS, SPAIN REGION</td>\n",
       "    </tr>\n",
       "    <tr>\n",
       "      <th>19</th>\n",
       "      <td>2021-11-22   16:46:16.5</td>\n",
       "      <td>28.62</td>\n",
       "      <td>17.84</td>\n",
       "      <td>CANARY ISLANDS, SPAIN REGION</td>\n",
       "    </tr>\n",
       "  </tbody>\n",
       "</table>\n",
       "</div>"
      ],
      "text/plain": [
       "                   datetime latitude longitude                    region_name\n",
       "0   2021-11-22   20:03:20.3   28.56     17.80    CANARY ISLANDS, SPAIN REGION\n",
       "1   2021-11-22   19:52:37.5   28.57     17.80    CANARY ISLANDS, SPAIN REGION\n",
       "2   2021-11-22   19:52:37.1   38.98     15.76                   SICILY, ITALY\n",
       "3   2021-11-22   19:47:58.0   11.73    124.21              LEYTE, PHILIPPINES\n",
       "4   2021-11-22   19:47:07.0   38.29     22.64                          GREECE\n",
       "5   2021-11-22   19:40:52.4   28.57     17.81    CANARY ISLANDS, SPAIN REGION\n",
       "6   2021-11-22   19:38:48.3   28.57     17.80    CANARY ISLANDS, SPAIN REGION\n",
       "7   2021-11-22   19:37:15.0    1.58    120.45             SULAWESI, INDONESIA\n",
       "8   2021-11-22   19:32:40.6   28.50     17.83    CANARY ISLANDS, SPAIN REGION\n",
       "9   2021-11-22   19:20:07.9   28.59     17.77    CANARY ISLANDS, SPAIN REGION\n",
       "10  2021-11-22   19:10:30.0   42.30    143.10          HOKKAIDO, JAPAN REGION\n",
       "11  2021-11-22   19:09:57.3   28.56     17.84    CANARY ISLANDS, SPAIN REGION\n",
       "12  2021-11-22   18:57:14.0   12.47     87.68         NEAR COAST OF NICARAGUA\n",
       "13  2021-11-22   18:41:30.4   28.57     17.84    CANARY ISLANDS, SPAIN REGION\n",
       "14  2021-11-22   18:27:29.2   28.68     17.92    CANARY ISLANDS, SPAIN REGION\n",
       "15  2021-11-22   18:12:58.6   35.67      3.55             STRAIT OF GIBRALTAR\n",
       "16  2021-11-22   17:13:16.4   34.26    177.84            NORTH OF NEW ZEALAND\n",
       "17  2021-11-22   17:10:33.2   18.11    178.31                     FIJI REGION\n",
       "18  2021-11-22   16:49:50.0   28.53     17.85    CANARY ISLANDS, SPAIN REGION\n",
       "19  2021-11-22   16:46:16.5   28.62     17.84    CANARY ISLANDS, SPAIN REGION"
      ]
     },
     "execution_count": 15,
     "metadata": {},
     "output_type": "execute_result"
    }
   ],
   "source": [
    "earthquakes"
   ]
  },
  {
   "cell_type": "markdown",
   "id": "ccdda752",
   "metadata": {},
   "source": [
    "## List all language names and number of related articles in the order they appear in wikipedia.org"
   ]
  },
  {
   "cell_type": "code",
   "execution_count": 44,
   "id": "0041abd1",
   "metadata": {},
   "outputs": [],
   "source": [
    "url = \"https://www.wikipedia.org\"\n",
    "response = requests.get(url)\n",
    "response.status_code\n",
    "soup = BeautifulSoup(response.content, 'html.parser')"
   ]
  },
  {
   "cell_type": "code",
   "execution_count": 45,
   "id": "f13c0309",
   "metadata": {},
   "outputs": [
    {
     "data": {
      "text/plain": [
       "[<strong>English</strong>]"
      ]
     },
     "execution_count": 45,
     "metadata": {},
     "output_type": "execute_result"
    }
   ],
   "source": [
    "soup.select(\"#js-link-box-en > strong\")"
   ]
  },
  {
   "cell_type": "code",
   "execution_count": 46,
   "id": "02d2ff06",
   "metadata": {},
   "outputs": [
    {
     "data": {
      "text/plain": [
       "[<bdi dir=\"ltr\">6 383 000+</bdi>]"
      ]
     },
     "execution_count": 46,
     "metadata": {},
     "output_type": "execute_result"
    }
   ],
   "source": [
    "soup.select(\"#js-link-box-en > small > bdi\")"
   ]
  },
  {
   "cell_type": "code",
   "execution_count": null,
   "id": "18f97823",
   "metadata": {},
   "outputs": [],
   "source": [
    "#js-link-box-ru > strong"
   ]
  },
  {
   "cell_type": "code",
   "execution_count": 47,
   "id": "16561e25",
   "metadata": {},
   "outputs": [
    {
     "data": {
      "text/plain": [
       "[<strong>English</strong>,\n",
       " <strong>日本語</strong>,\n",
       " <strong>Русский</strong>,\n",
       " <strong>Deutsch</strong>,\n",
       " <strong>Español</strong>,\n",
       " <strong>Français</strong>,\n",
       " <strong>中文</strong>,\n",
       " <strong>Italiano</strong>,\n",
       " <strong>Português</strong>,\n",
       " <strong>Polski</strong>]"
      ]
     },
     "execution_count": 47,
     "metadata": {},
     "output_type": "execute_result"
    }
   ],
   "source": [
    "soup.select(\"a.link-box > strong\")"
   ]
  },
  {
   "cell_type": "code",
   "execution_count": 48,
   "id": "f6a97d8f",
   "metadata": {},
   "outputs": [
    {
     "data": {
      "text/plain": [
       "[<bdi dir=\"ltr\">6 383 000+</bdi>,\n",
       " <bdi dir=\"ltr\">1 292 000+</bdi>,\n",
       " <bdi dir=\"ltr\">1 756 000+</bdi>,\n",
       " <bdi dir=\"ltr\">2 617 000+</bdi>,\n",
       " <bdi dir=\"ltr\">1 717 000+</bdi>,\n",
       " <bdi dir=\"ltr\">2 362 000+</bdi>,\n",
       " <bdi dir=\"ltr\">1 231 000+</bdi>,\n",
       " <bdi dir=\"ltr\">1 718 000+</bdi>,\n",
       " <bdi dir=\"ltr\">1 074 000+</bdi>,\n",
       " <bdi dir=\"ltr\">1 490 000+</bdi>]"
      ]
     },
     "execution_count": 48,
     "metadata": {},
     "output_type": "execute_result"
    }
   ],
   "source": [
    "soup.select(\"small > bdi\")"
   ]
  },
  {
   "cell_type": "code",
   "execution_count": 52,
   "id": "772889e4",
   "metadata": {},
   "outputs": [
    {
     "data": {
      "text/html": [
       "<div>\n",
       "<style scoped>\n",
       "    .dataframe tbody tr th:only-of-type {\n",
       "        vertical-align: middle;\n",
       "    }\n",
       "\n",
       "    .dataframe tbody tr th {\n",
       "        vertical-align: top;\n",
       "    }\n",
       "\n",
       "    .dataframe thead th {\n",
       "        text-align: right;\n",
       "    }\n",
       "</style>\n",
       "<table border=\"1\" class=\"dataframe\">\n",
       "  <thead>\n",
       "    <tr style=\"text-align: right;\">\n",
       "      <th></th>\n",
       "      <th>language</th>\n",
       "      <th>number_of_articles</th>\n",
       "    </tr>\n",
       "  </thead>\n",
       "  <tbody>\n",
       "    <tr>\n",
       "      <th>0</th>\n",
       "      <td>English</td>\n",
       "      <td>6 383 000+</td>\n",
       "    </tr>\n",
       "    <tr>\n",
       "      <th>1</th>\n",
       "      <td>日本語</td>\n",
       "      <td>1 292 000+</td>\n",
       "    </tr>\n",
       "    <tr>\n",
       "      <th>2</th>\n",
       "      <td>Русский</td>\n",
       "      <td>1 756 000+</td>\n",
       "    </tr>\n",
       "    <tr>\n",
       "      <th>3</th>\n",
       "      <td>Deutsch</td>\n",
       "      <td>2 617 000+</td>\n",
       "    </tr>\n",
       "    <tr>\n",
       "      <th>4</th>\n",
       "      <td>Español</td>\n",
       "      <td>1 717 000+</td>\n",
       "    </tr>\n",
       "    <tr>\n",
       "      <th>5</th>\n",
       "      <td>Français</td>\n",
       "      <td>2 362 000+</td>\n",
       "    </tr>\n",
       "    <tr>\n",
       "      <th>6</th>\n",
       "      <td>中文</td>\n",
       "      <td>1 231 000+</td>\n",
       "    </tr>\n",
       "    <tr>\n",
       "      <th>7</th>\n",
       "      <td>Italiano</td>\n",
       "      <td>1 718 000+</td>\n",
       "    </tr>\n",
       "    <tr>\n",
       "      <th>8</th>\n",
       "      <td>Português</td>\n",
       "      <td>1 074 000+</td>\n",
       "    </tr>\n",
       "    <tr>\n",
       "      <th>9</th>\n",
       "      <td>Polski</td>\n",
       "      <td>1 490 000+</td>\n",
       "    </tr>\n",
       "  </tbody>\n",
       "</table>\n",
       "</div>"
      ],
      "text/plain": [
       "    language number_of_articles\n",
       "0    English         6 383 000+\n",
       "1        日本語         1 292 000+\n",
       "2    Русский         1 756 000+\n",
       "3    Deutsch         2 617 000+\n",
       "4    Español         1 717 000+\n",
       "5   Français         2 362 000+\n",
       "6         中文         1 231 000+\n",
       "7   Italiano         1 718 000+\n",
       "8  Português         1 074 000+\n",
       "9     Polski         1 490 000+"
      ]
     },
     "execution_count": 52,
     "metadata": {},
     "output_type": "execute_result"
    }
   ],
   "source": [
    "language = []\n",
    "nb_articles = []\n",
    "\n",
    "for i in range(len(soup.select(\"a.link-box > strong\"))) :\n",
    "    language.append(soup.select(\"a.link-box > strong\")[i].get_text())\n",
    "    nb_articles.append(soup.select(\"small > bdi\")[i].get_text())\n",
    "    \n",
    "    \n",
    "boxes = pd.DataFrame({\"language\":language, \"number_of_articles\":nb_articles})\n",
    "boxes"
   ]
  }
 ],
 "metadata": {
  "kernelspec": {
   "display_name": "Python 3",
   "language": "python",
   "name": "python3"
  },
  "language_info": {
   "codemirror_mode": {
    "name": "ipython",
    "version": 3
   },
   "file_extension": ".py",
   "mimetype": "text/x-python",
   "name": "python",
   "nbconvert_exporter": "python",
   "pygments_lexer": "ipython3",
   "version": "3.8.8"
  }
 },
 "nbformat": 4,
 "nbformat_minor": 5
}
